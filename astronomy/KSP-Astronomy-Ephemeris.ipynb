{
 "cells": [
  {
   "cell_type": "code",
   "execution_count": 1,
   "metadata": {},
   "outputs": [],
   "source": [
    "import numpy as np\n",
    "import datetime as dt\n",
    "from astropy.time import Time\n",
    "from astropy.coordinates import get_sun,Angle\n",
    "from astropy import units as u\n",
    "from astropy.coordinates import SkyCoord\n",
    "from prettytable import PrettyTable"
   ]
  },
  {
   "cell_type": "markdown",
   "metadata": {},
   "source": [
    "# Orbital Elements"
   ]
  },
  {
   "cell_type": "code",
   "execution_count": 2,
   "metadata": {},
   "outputs": [],
   "source": [
    "def hms2rad(hm_list):\n",
    "    h,m,s= hm_list[0],hm_list[1],hm_list[2]\n",
    "    ang = str(int(h))+'h'+str(int(m))+'m'+str(s)+'s'\n",
    "    rad = Angle(ang).to(u.rad).value\n",
    "    return rad"
   ]
  },
  {
   "cell_type": "code",
   "execution_count": 3,
   "metadata": {},
   "outputs": [],
   "source": [
    "def dms2rad(dm_list):\n",
    "    d,m,s = dm_list[0],dm_list[1],dm_list[2]\n",
    "    ang = str(int(d))+'d'+str(int(m))+'m'+str(s)+'s'\n",
    "    rad = Angle(ang).to(u.rad).value\n",
    "    return rad"
   ]
  },
  {
   "cell_type": "code",
   "execution_count": 4,
   "metadata": {},
   "outputs": [],
   "source": [
    "def cook_data(data):\n",
    "    dates = data[0]\n",
    "    ra_raw = data[1]\n",
    "    dec_raw = data[2]\n",
    "    ra = []\n",
    "    for i in ra_raw:\n",
    "        ra_i = list(map(float, i.split(' ')))\n",
    "        ra.append(ra_i)\n",
    "    dec = []\n",
    "    for i in dec_raw:\n",
    "        dec_i = list(map(float, i.split(' ')))\n",
    "        dec.append(dec_i)\n",
    "    ra = np.array(ra)\n",
    "    dec = np.array(dec)\n",
    "    ra_rad = []\n",
    "    dec_rad = []\n",
    "    for i in range(len(ra)):\n",
    "        h,m,s= ra[i][0],ra[i][1],ra[i][2]\n",
    "        ang_hms = Angle(str(int(h))+'h'+str(int(m))+'m'+str(s)+'s')\n",
    "        rad1 = ang_hms.to(u.rad).value\n",
    "        ra_rad.append(rad1)\n",
    "        d,mi,se= dec[i][0],dec[i][1],dec[i][2]\n",
    "        ang_dms = Angle(str(int(d))+'d'+str(int(mi))+'m'+str(se)+'s')\n",
    "        rad2 = ang_dms.to(u.rad).value\n",
    "        dec_rad.append(rad2)\n",
    "    ra_rad,dec_rad = np.array(ra_rad),np.array(dec_rad)\n",
    "    time = []\n",
    "    for i in dates:\n",
    "        date = Time.strptime(i, \"%Y-%b-%d\",scale='utc')\n",
    "        t = date.tt\n",
    "        time.append(t)\n",
    "    time = np.array(time)\n",
    "    return ra_rad,dec_rad,time"
   ]
  },
  {
   "cell_type": "code",
   "execution_count": 5,
   "metadata": {},
   "outputs": [],
   "source": [
    "def round_array(array,N):\n",
    "    x = []\n",
    "    for i in range(len(array)):\n",
    "        m = round(array[i],N)\n",
    "        x.append(m)\n",
    "        \n",
    "    return np.array(x)"
   ]
  },
  {
   "cell_type": "code",
   "execution_count": 6,
   "metadata": {},
   "outputs": [],
   "source": [
    "def makePrettyTable(table_col1, table_col2, table_col3):\n",
    "    \"\"\" For table Output \"\"\"\n",
    "    table = PrettyTable()\n",
    "    table.add_column('',round_array(table_col1,6))\n",
    "    table.add_column('',round_array(table_col2,6))\n",
    "    table.add_column('',table_col3)\n",
    "    return print(table)"
   ]
  },
  {
   "cell_type": "code",
   "execution_count": 7,
   "metadata": {},
   "outputs": [],
   "source": [
    "def tablefortwo(table_col1, table_col2):\n",
    "    \"\"\" For table Output \"\"\"\n",
    "    table = PrettyTable()\n",
    "    table.add_column('',round_array(table_col1,6))\n",
    "    table.add_column('',round_array(table_col2,6))\n",
    "    return print(table)"
   ]
  },
  {
   "cell_type": "code",
   "execution_count": 8,
   "metadata": {},
   "outputs": [],
   "source": [
    "def eq2cart(ra,dec,dist): # equatorial to Cartesian\n",
    "    x = dist*np.cos(ra)*np.cos(dec)\n",
    "    y = dist*np.sin(ra)*np.cos(dec)\n",
    "    z = dist*np.sin(dec)\n",
    "\n",
    "    return x,y,z"
   ]
  },
  {
   "cell_type": "code",
   "execution_count": 9,
   "metadata": {},
   "outputs": [],
   "source": [
    "def sunattime(time):\n",
    "    ra_s,dec_s,dist_s = np.array([]),np.array([]),np.array([])\n",
    "\n",
    "    for i in time:\n",
    "        ra_s = np.insert(ra_s,len(ra_s),get_sun(i).ra.value,axis=0)\n",
    "        dec_s = np.insert(dec_s,len(dec_s),get_sun(i).dec.value,axis=0)\n",
    "        dist_s = np.insert(dist_s,len(dist_s),get_sun(i).distance.value,axis=0)\n",
    "    ra_s,dec_s = np.deg2rad(ra_s),np.deg2rad(dec_s)\n",
    "    x_s,y_s,z_s = eq2cart(ra_s,dec_s,dist_s)\n",
    "    return x_s,y_s,z_s"
   ]
  },
  {
   "cell_type": "code",
   "execution_count": 10,
   "metadata": {},
   "outputs": [],
   "source": [
    "def cooktime(t1,t2,t3):\n",
    "    T1 = (t3-t2).value/58.13244087\n",
    "    T2 = (t3-t1).value/58.13244087\n",
    "    T3 = (t2-t1).value/58.13244087\n",
    "    return T1,T2,T3"
   ]
  },
  {
   "cell_type": "code",
   "execution_count": 11,
   "metadata": {},
   "outputs": [],
   "source": [
    "def lmn(ra,dec):\n",
    "    l = np.cos(ra)*np.cos(dec)\n",
    "    m = np.sin(ra)*np.cos(dec)\n",
    "    n = np.sin(dec)\n",
    "    return l,m,n"
   ]
  },
  {
   "cell_type": "code",
   "execution_count": 12,
   "metadata": {},
   "outputs": [],
   "source": [
    "def distances(l,m,n,x_s,y_s,z_s,a1,b1,a3,b3):\n",
    "    l1,l2,l3 = l[0],l[1],l[2]\n",
    "    m1,m2,m3 = m[0],m[1],m[2]\n",
    "    n1,n2,n3 = n[0],n[1],n[2]\n",
    "    x_s1, x_s2, x_s3 = x_s[0],x_s[1],x_s[2]\n",
    "    y_s1, y_s2, y_s3 = y_s[0],y_s[1],y_s[2]\n",
    "    z_s1, z_s2, z_s3 = z_s[0],z_s[1],z_s[2]\n",
    "    \n",
    "    A = [[l1*a1,-l2,l3*a3],[m1*a1,-m2,m3*a3],[n1*a1,-n2,n3*a3]]\n",
    "    B = [a1*x_s1 - x_s2 + a3*x_s3, a1*y_s1 - y_s2 + a3*y_s3, a1*z_s1 - z_s2 + a3*z_s3]\n",
    "    \n",
    "    try:\n",
    "        Deltas = np.linalg.solve(A,B)\n",
    "    except:\n",
    "        Deltas = np.linalg.lstsq(A,B,rcond=None)\n",
    "        \n",
    "    xi = l*Deltas - x_s\n",
    "    eta = m*Deltas - y_s\n",
    "    zeta = n*Deltas - z_s\n",
    "    r = np.sqrt(xi**2 + eta**2 + zeta**2)\n",
    "#    tablefortwo(Deltas,r)\n",
    "    return Deltas,r"
   ]
  },
  {
   "cell_type": "code",
   "execution_count": 13,
   "metadata": {},
   "outputs": [],
   "source": [
    "def improve_a(b1,b3,T1,T3,r):\n",
    "    a1 = b1 + (T1*T3/(6*(r[1]**3)))*(1+b1)\n",
    "    a3 = b3 + (T1*T3/(6*(r[1]**3)))*(1+b3)\n",
    "    return a1,a3"
   ]
  },
  {
   "cell_type": "code",
   "execution_count": 14,
   "metadata": {},
   "outputs": [],
   "source": [
    "def lt_correction(D,t1,t2,t3):\n",
    "    # Light-time correction\n",
    "\n",
    "    c = 10065.320\n",
    "    t1_d = D[0]/c\n",
    "    t1 = t1 - t1_d\n",
    "    t2_d = D[1]/c\n",
    "    t2 = t2 - t2_d\n",
    "    t3_d = D[2]/c\n",
    "    t3 = t3 - t3_d\n",
    "    return t1,t2,t3"
   ]
  },
  {
   "cell_type": "code",
   "execution_count": 15,
   "metadata": {},
   "outputs": [],
   "source": [
    "def calcgeo(l,m,n,D,x_s,y_s,z_s):\n",
    "    xi = l*D - x_s\n",
    "    eta = m*D - y_s\n",
    "    zeta = n*D - z_s\n",
    "\n",
    "    return xi,eta,zeta"
   ]
  },
  {
   "cell_type": "code",
   "execution_count": 16,
   "metadata": {},
   "outputs": [],
   "source": [
    "def calcf3(r,xi,eta,zeta):\n",
    "    xi1, xi2, = xi[0], xi[1]\n",
    "    eta1, eta2 = eta[0], eta[1]\n",
    "    zeta1, zeta2 = zeta[0], zeta[1]\n",
    "    r1, r2 = r[0], r[1]\n",
    "    cos2f3 = (xi1*xi2 + eta1*eta2 + zeta1*zeta2)/(r1*r2)\n",
    "    cosf3 = np.sqrt((1+cos2f3)/2)\n",
    "    f3 = np.arccos(cosf3)\n",
    "    return f3"
   ]
  },
  {
   "cell_type": "code",
   "execution_count": 17,
   "metadata": {},
   "outputs": [],
   "source": [
    "def calcf2(r,xi,eta,zeta):\n",
    "    xi1, xi3 = xi[0], xi[2]\n",
    "    eta1, eta3 = eta[0], eta[2]\n",
    "    zeta1, zeta3 = zeta[0], zeta[2]\n",
    "    r1, r3 = r[0], r[2]\n",
    "    cos2f2 = (xi3*xi1 + eta3*eta1 + zeta3*zeta1)/(r3*r1)\n",
    "    cosf2 = np.sqrt((1+cos2f2)/2)\n",
    "    f2 = np.arccos(cosf2)\n",
    "    return f2"
   ]
  },
  {
   "cell_type": "code",
   "execution_count": 18,
   "metadata": {},
   "outputs": [],
   "source": [
    "def calcf1(r,xi,eta,zeta):\n",
    "    xi2, xi3 = xi[1], xi[2]\n",
    "    eta2, eta3 = eta[1], eta[2]\n",
    "    zeta2, zeta3 = zeta[1], zeta[2]\n",
    "    r2, r3 = r[1], r[2]\n",
    "    cos2f1 = (xi2*xi3 + eta2*eta3 + zeta2*zeta3)/(r2*r3)\n",
    "    cosf1 = np.sqrt((1+cos2f1)/2)\n",
    "    f1 = np.arccos(cosf1)\n",
    "    return f1"
   ]
  },
  {
   "cell_type": "code",
   "execution_count": 19,
   "metadata": {},
   "outputs": [],
   "source": [
    "def calcM2N(T3,f3,r1,r2):\n",
    "    M3 = T3/(2*((np.sqrt(r1*r2)*np.cos(f3))**(3/2)))\n",
    "    N3 = (r1+r2)/(2*(np.sqrt(r1*r2)*np.cos(f3)))\n",
    "    M32 = M3**2\n",
    "    return M32,N3"
   ]
  },
  {
   "cell_type": "code",
   "execution_count": 20,
   "metadata": {},
   "outputs": [],
   "source": [
    "def functionsolve(a,b,xg,yg):\n",
    "    count=0\n",
    "    x,y = 10,10\n",
    "    h,k=1,1\n",
    "    while abs((x-xg)/xg)>1e-15 and abs((y-yg)/yg)>1e-15:\n",
    "        f = (xg**2 - a/(b-np.cos(yg)))\n",
    "        g = (xg**3 - xg**2 - ((a*(yg-np.sin(yg)*np.cos(yg)))/(np.sin(yg)**3)))\n",
    "        fx = 2*xg\n",
    "        fy = (a*np.sin(yg))/((b-np.cos(yg))**2)\n",
    "        gx = xg*(3*xg-2)\n",
    "        gy = ((a*(3*(yg-np.sin(yg)*np.cos(yg))*np.cos(yg) - 2*np.sin(yg)**3))/(np.sin(yg)**4))\n",
    "        h,k = np.linalg.solve([[fx,fy],[gx,gy]],[f,g])\n",
    "        x,y = xg,yg\n",
    "        xg = xg-h\n",
    "        yg = yg-k\n",
    "        count +=1\n",
    "#         print(x,y)\n",
    "#     print(count,(x-xg)/xg,(y-yg)/yg)\n",
    "    return x,y"
   ]
  },
  {
   "cell_type": "code",
   "execution_count": 21,
   "metadata": {},
   "outputs": [],
   "source": [
    "def functionsolve_guess(M,N,f):\n",
    "    g = f\n",
    "    R = 1\n",
    "    R3,g3 = functionsolve(M,N,R,g)\n",
    "    return R3,g3"
   ]
  },
  {
   "cell_type": "code",
   "execution_count": 22,
   "metadata": {},
   "outputs": [],
   "source": [
    "def calc_e_nu(r1,r2,r3,f1,f2,f3,l):\n",
    "    ecosnu1 = l/r1 - 1\n",
    "    esinnu1 = (np.cos(2*f2)*(l/r1 - 1) - (l/r3 - 1))/(np.sin(2*f2))\n",
    "    nu1 = np.arctan2(esinnu1,ecosnu1)\n",
    "    # e = ecosnu1/np.cos(nu1)\n",
    "#    nu1,nu2,nu3 = nu1+2*np.pi,nu2+2*np.pi,nu3+2*np.pi\n",
    "    e = esinnu1/np.sin(nu1)\n",
    "    nu1 = check_angle_rad(nu1)\n",
    "    nu2 = nu1 + 2*f3\n",
    "    nu3 = nu1 + 2*f2\n",
    "    return e,nu1,nu2,nu3"
   ]
  },
  {
   "cell_type": "code",
   "execution_count": 23,
   "metadata": {},
   "outputs": [],
   "source": [
    "def calc_a(l,e):\n",
    "    a = l/(1-e*e)\n",
    "    return a"
   ]
  },
  {
   "cell_type": "code",
   "execution_count": 24,
   "metadata": {},
   "outputs": [],
   "source": [
    "def calc_E(e,nu):\n",
    "    cos = (e+np.cos(nu))/(1+(e*np.cos(nu)))\n",
    "    sin = ((np.sin(nu)*np.sqrt(1 - e**2)))/(e+np.cos(nu))\n",
    "    E = np.arccos(cos)\n",
    "    #E = np.arctan2(sin,cos)\n",
    "    if (cos<0)and(sin<0):\n",
    "        E = E+(np.pi/2)\n",
    "    elif (cos>0)and(sin<0):\n",
    "        E = E+np.pi\n",
    "    else:\n",
    "        E = E\n",
    "    return E"
   ]
  },
  {
   "cell_type": "code",
   "execution_count": 25,
   "metadata": {},
   "outputs": [],
   "source": [
    "def PQ1(xi,eta,zeta,r,f1,f2,f3,nu1,nu2,nu3):\n",
    "    xi1, xi3 = xi[0], xi[2]\n",
    "    eta1, eta3 = eta[0], eta[2]\n",
    "    zeta1, zeta3 = zeta[0], zeta[2]\n",
    "\n",
    "    r1,r3 = r[0],r[2]\n",
    "\n",
    "    Px = (xi1*r3*np.sin(nu3) - xi3*r1*np.sin(nu1))/(r1*r3*np.sin(2*f2))\n",
    "    Qx = (xi3*r1*np.cos(nu1) - xi1*r3*np.cos(nu3))/(r1*r3*np.sin(2*f2))\n",
    "\n",
    "    Py = (eta1*r3*np.sin(nu3) - eta3*r1*np.sin(nu1))/(r1*r3*np.sin(2*f2))\n",
    "    Qy = (eta3*r1*np.cos(nu1) - eta1*r3*np.cos(nu3))/(r1*r3*np.sin(2*f2))\n",
    "\n",
    "    Pz = (zeta1*r3*np.sin(nu3) - zeta3*r1*np.sin(nu1))/(r1*r3*np.sin(2*f2))\n",
    "    Qz = (zeta3*r1*np.cos(nu1) - zeta1*r3*np.cos(nu3))/(r1*r3*np.sin(2*f2))\n",
    "\n",
    "    return Px,Py,Pz,Qx,Qy,Qz"
   ]
  },
  {
   "cell_type": "code",
   "execution_count": 26,
   "metadata": {},
   "outputs": [],
   "source": [
    "def calc_omega(Py,Pz,Qy,Qz):\n",
    "    eps = 23.439291\n",
    "    epsrad = np.deg2rad(eps)\n",
    "    sin = Pz*np.cos(epsrad) - Py*np.sin(epsrad)\n",
    "    cos = Qz*np.cos(epsrad) - Qy*np.sin(epsrad)\n",
    "    omega = np.arctan2(sin,cos)\n",
    "#     print(np.rad2deg(omega))\n",
    "    return omega"
   ]
  },
  {
   "cell_type": "code",
   "execution_count": 27,
   "metadata": {},
   "outputs": [],
   "source": [
    "def calc_OMega(Px,Py,Qx,Qy,omega):\n",
    "    eps = 23.439291\n",
    "    epsrad = np.deg2rad(eps)\n",
    "    sin = (Py*np.cos(omega) - Qy*np.sin(omega))*(1/np.cos(epsrad))\n",
    "    cos = Px*np.cos(omega) - Qx*np.sin(omega)\n",
    "    OMega = np.arctan2(sin,cos)\n",
    "#     print(np.rad2deg(OMega))\n",
    "    return OMega"
   ]
  },
  {
   "cell_type": "code",
   "execution_count": 28,
   "metadata": {},
   "outputs": [],
   "source": [
    "def calc_i(Px,Qx,omega,OMega):\n",
    "    cos = -(Px*np.sin(omega)+Qx*np.cos(omega))*(1/np.sin(OMega))\n",
    "    i = np.arccos(cos)\n",
    "#     print(np.rad2deg(i))\n",
    "    return i"
   ]
  },
  {
   "cell_type": "code",
   "execution_count": 29,
   "metadata": {},
   "outputs": [],
   "source": [
    "def improve_iterate(b1,b3,T1,T3,r,l,m,n,x_s,y_s,z_s):\n",
    "    prec = 1\n",
    "    count=0\n",
    "    while prec>1e-15:\n",
    "        r2_old = r[1]\n",
    "        a1,a3 = improve_a(b1,b3,T1,T3,r)\n",
    "        D,r = distances(l,m,n,x_s,y_s,z_s,a1,b1,a3,b3)\n",
    "        r2_new = r[1]\n",
    "        prec = abs((r2_new - r2_old)/r2_old)\n",
    "        count +=1\n",
    "#        print(D,r)\n",
    "#    print(count)\n",
    "    return a1,a3,D,r"
   ]
  },
  {
   "cell_type": "code",
   "execution_count": 30,
   "metadata": {},
   "outputs": [],
   "source": [
    "def check_angle_rad(rad):\n",
    "    if rad<0:\n",
    "        if abs(rad)<2*np.pi:\n",
    "            rad = rad + 2*np.pi\n",
    "        if abs(rad)>2*np.pi:\n",
    "            rad = abs(rad + 2*np.pi)\n",
    "    if rad>0:\n",
    "        if rad>2*np.pi:\n",
    "            rad = rad - 2*np.pi    \n",
    "    return rad"
   ]
  },
  {
   "cell_type": "code",
   "execution_count": 31,
   "metadata": {},
   "outputs": [],
   "source": [
    "def check_angle_deg(deg):\n",
    "    if deg<0:\n",
    "        if abs(deg)<360:\n",
    "            deg = deg + 360\n",
    "        if abs(deg)>360:\n",
    "            deg = abs(deg + 360)\n",
    "    if deg>0:\n",
    "        if deg>360:\n",
    "            deg = deg - 360\n",
    "    return deg"
   ]
  },
  {
   "cell_type": "code",
   "execution_count": 32,
   "metadata": {},
   "outputs": [],
   "source": [
    "def days2syr(days):\n",
    "    days = days/365.25636\n",
    "    return days"
   ]
  },
  {
   "cell_type": "code",
   "execution_count": 33,
   "metadata": {},
   "outputs": [],
   "source": [
    "def error_check(a,e,i,omega,OMega,P):\n",
    "    elts0 = get_elements(main_file)\n",
    "    a0 = elts0[0]\n",
    "    e0 = elts0[1]\n",
    "    i0 = elts0[2]\n",
    "    OMega0 = elts0[3]\n",
    "    omega0 = elts0[4]\n",
    "    P0 = elts0[5]\n",
    "    i0 = Angle(i0*u.deg).rad\n",
    "    omega0 = Angle(omega0*u.deg).rad\n",
    "    OMega0 = Angle(OMega0*u.deg).rad\n",
    "    acc_a = round((1 - (abs((a-a0)/a0)))*100,3)\n",
    "    acc_e = round((1 -(abs((e-e0)/e0)))*100,3)\n",
    "    acc_i = round((1 -(abs((i-i0)/i0)))*100,3)\n",
    "    acc_om = round((1 -(abs((omega-omega0)/omega0)))*100,3)\n",
    "    acc_Om = round((1 -(abs((OMega-OMega0)/OMega0)))*100,3)\n",
    "    acc_P = round((1 -(abs((P-P0)/P0)))*100,3)\n",
    "    return acc_a,acc_e,acc_i,acc_om,acc_Om,acc_P"
   ]
  },
  {
   "cell_type": "markdown",
   "metadata": {},
   "source": [
    "# Ephemeris"
   ]
  },
  {
   "cell_type": "code",
   "execution_count": 34,
   "metadata": {},
   "outputs": [],
   "source": [
    "import astropy.units as u\n",
    "from astropy.coordinates import Angle,get_sun\n",
    "from astropy.time import Time\n",
    "import numpy as np"
   ]
  },
  {
   "cell_type": "code",
   "execution_count": 35,
   "metadata": {},
   "outputs": [],
   "source": [
    "def time_array(t0,N,step):\n",
    "    t_arr = []\n",
    "    for i in range(1,N+1):\n",
    "        t_arr.append(t0+i*step)\n",
    "    return t_arr"
   ]
  },
  {
   "cell_type": "code",
   "execution_count": 36,
   "metadata": {},
   "outputs": [],
   "source": [
    "def Period(a):\n",
    "    P = a**(1.5)\n",
    "    return P"
   ]
  },
  {
   "cell_type": "code",
   "execution_count": 37,
   "metadata": {},
   "outputs": [],
   "source": [
    "def MA(M0,t_arr,t0,P):\n",
    "    M0 = M0.rad\n",
    "    P = P*365.25636\n",
    "    M_arr = []\n",
    "    for i in range(len(t_arr)):\n",
    "        M = M0 + ((2*np.pi)/P)*((t_arr[i]-t0).value)\n",
    "        M_arr.append(M)\n",
    "    return M_arr"
   ]
  },
  {
   "cell_type": "code",
   "execution_count": 38,
   "metadata": {},
   "outputs": [],
   "source": [
    "def Kep_Solve(e,M):\n",
    "    E_arr = []\n",
    "    for i in range(len(M)):\n",
    "        x = (e*np.sin(M[i]))/(1-e*np.cos(M[i]))\n",
    "        Eg = M[i] + x*(1-0.5*x**2)\n",
    "        prec = 1\n",
    "        count = 0\n",
    "        while prec>1e-10:\n",
    "            E = (M[i] - e*(Eg*np.cos(Eg) - np.sin(Eg)))/(1-e*np.cos(Eg))\n",
    "            prec = abs((Eg-E)/Eg)\n",
    "            Eg = E\n",
    "        E_arr.append(E)\n",
    "    return E_arr"
   ]
  },
  {
   "cell_type": "code",
   "execution_count": 39,
   "metadata": {},
   "outputs": [],
   "source": [
    "def PQ_eph(com,om,i):\n",
    "    ob = np.deg2rad(23.439291)\n",
    "    com = np.deg2rad(com)\n",
    "    om = np.deg2rad(om)\n",
    "    i = np.deg2rad(i)\n",
    "    Px = np.cos(com)*np.cos(om) - np.sin(com)*np.sin(om)*np.cos(i)\n",
    "    Qx = -(np.cos(com)*np.sin(om) + np.sin(com)*np.cos(om)*np.cos(i))\n",
    "    Py = (np.sin(com)*np.cos(om) + np.cos(com)*np.sin(om)*np.cos(i))*np.cos(ob) - np.sin(om)*np.sin(i)*np.sin(ob)\n",
    "    Qy = (-np.sin(com)*np.sin(om) + np.cos(com)*np.cos(om)*np.cos(i))*np.cos(ob) - np.cos(om)*np.sin(i)*np.sin(ob)\n",
    "    Pz = (np.sin(com)*np.cos(om) + np.cos(com)*np.sin(om)*np.cos(i))*np.sin(ob) + np.sin(om)*np.sin(i)*np.cos(ob)\n",
    "    Qz = (-np.sin(com)*np.sin(om) + np.cos(com)*np.cos(om)*np.cos(i))*np.sin(ob) + np.cos(om)*np.sin(i)*np.cos(ob)\n",
    "    \n",
    "    return Px,Qx,Py,Qy,Pz,Qz"
   ]
  },
  {
   "cell_type": "code",
   "execution_count": 40,
   "metadata": {},
   "outputs": [],
   "source": [
    "def helio_eq(a,Px,Py,Pz,Qx,Qy,Qz,E,e):\n",
    "    b = a*np.sqrt(1-e**2)\n",
    "    xi,eta,zeta = [],[],[]\n",
    "    for i in range(len(E)):\n",
    "        Xi = a*Px*(np.cos(E[i]) - e) + b*Qx*(np.sin(E[i]))\n",
    "        Eta = a*Py*(np.cos(E[i]) - e) + b*Qy*(np.sin(E[i]))\n",
    "        Zeta = a*Pz*(np.cos(E[i]) - e) + b*Qz*(np.sin(E[i]))\n",
    "        xi.append(Xi)\n",
    "        eta.append(Eta)\n",
    "        zeta.append(Zeta)\n",
    "    return xi,eta,zeta"
   ]
  },
  {
   "cell_type": "code",
   "execution_count": 41,
   "metadata": {},
   "outputs": [],
   "source": [
    "def polar2cart(ra,dec,dist):\n",
    "    dec,ra = np.deg2rad(dec),np.deg2rad(ra)\n",
    "    x = dist*np.cos(dec)*np.cos(ra)\n",
    "    y = dist*np.cos(dec)*np.sin(ra)\n",
    "    z = dist*np.sin(dec)\n",
    "    return x,y,z"
   ]
  },
  {
   "cell_type": "code",
   "execution_count": 42,
   "metadata": {},
   "outputs": [],
   "source": [
    "def geo_cart(xi,eta,zeta,T_arr):\n",
    "    X,Y,Z = [],[],[]\n",
    "    for i in range(len(xi)):\n",
    "        ra_s = get_sun(T_arr[i]).ra.value\n",
    "        dec_s = get_sun(T_arr[i]).dec.value\n",
    "        dist_s = get_sun(T_arr[i]).distance.value\n",
    "        x_s,y_s,z_s = polar2cart(ra_s,dec_s,dist_s)\n",
    "        x = x_s + xi[i]\n",
    "        y = y_s + eta[i]\n",
    "        z = z_s + zeta[i]\n",
    "        X.append(x)\n",
    "        Y.append(y)\n",
    "        Z.append(z)\n",
    "    return X,Y,Z"
   ]
  },
  {
   "cell_type": "code",
   "execution_count": 43,
   "metadata": {},
   "outputs": [],
   "source": [
    "def cart2polar(x_arr,y_arr,z_arr):\n",
    "    ra,dec,dist = [],[],[]\n",
    "    for i in range(len(x_arr)):\n",
    "        cosra = x_arr[i]/(np.sqrt(x_arr[i]**2 + y_arr[i]**2))\n",
    "        sinra = y_arr[i]/(np.sqrt(x_arr[i]**2 + y_arr[i]**2))\n",
    "        \n",
    "        Ra = np.arctan2(sinra,cosra)\n",
    "        \n",
    "        Dec = np.arcsin(z_arr[i]/np.sqrt(x_arr[i]**2 + y_arr[i]**2 + z_arr[i]**2))\n",
    "        \n",
    "        Dist = np.sqrt(x_arr[i]**2 + y_arr[i]**2 + z_arr[i]**2)\n",
    "        \n",
    "        ra.append(Ra)\n",
    "        dec.append(Dec)\n",
    "        dist.append(Dist)\n",
    "        \n",
    "    return ra,dec,dist"
   ]
  },
  {
   "cell_type": "code",
   "execution_count": 44,
   "metadata": {},
   "outputs": [],
   "source": [
    "def ra2hms(ra):\n",
    "    hms_ra = []\n",
    "    for i in range(len(ra)):\n",
    "        h = Angle(ra[i]*u.rad)\n",
    "        if h<0:\n",
    "            h = Angle(2*np.pi*u.rad) + h\n",
    "        h = h.hms\n",
    "        h = str(int(h.h))+' '+str(int(h.m))+' '+str(round(h.s,4))\n",
    "        hms_ra.append(h)\n",
    "    return hms_ra\n",
    "\n",
    "def dec2dms(dec):\n",
    "    dms_dec = []\n",
    "    for i in range(len(dec)):\n",
    "        d = Angle(dec[i]*u.rad).dms\n",
    "        d = str(int(d.d)) +' '+str(int(abs(d.m)))+' '+str(round(abs(d.s),4))\n",
    "        dms_dec.append(d)\n",
    "    return dms_dec\n",
    "\n",
    "def dist2str(dist):\n",
    "    dist_str = []\n",
    "    for i in range(len(dist)):\n",
    "        dist_str.append(str(round(dist[i],4)))\n",
    "    return dist_str"
   ]
  },
  {
   "cell_type": "code",
   "execution_count": 45,
   "metadata": {},
   "outputs": [],
   "source": [
    "def ephemeris(a,e,i,OM,w,M0,t0,N,step):\n",
    "    P = Period(a.value)\n",
    "    T_arr = time_array(t0,N,step)\n",
    "    tf = T_arr[-1] # final time\n",
    "    M = MA(M0,T_arr,t0,P)\n",
    "    E = Kep_Solve(e,M)\n",
    "    Px,Qx,Py,Qy,Pz,Qz = PQ_eph(OM.value,w.value,inc.value)\n",
    "    xi,eta,zeta = helio_eq(a.value,Px,Py,Pz,Qx,Qy,Qz,E,e)\n",
    "    x,y,z = geo_cart(xi,eta,zeta,T_arr)\n",
    "    ra,dec,dist = cart2polar(x,y,z)\n",
    "    ra = ra2hms(ra)\n",
    "    dec = dec2dms(dec)\n",
    "    dist = dist2str(dist)\n",
    "    return ra,dec,dist,T_arr"
   ]
  },
  {
   "cell_type": "code",
   "execution_count": 46,
   "metadata": {},
   "outputs": [],
   "source": [
    "def time2str(arr):\n",
    "    T_str = []\n",
    "    for i in range(len(arr)):\n",
    "        y = arr[i].strftime(\"%Y-%b-%d\")\n",
    "        T_str.append(y)\n",
    "    T_str = np.array(T_str)\n",
    "    return T_str"
   ]
  },
  {
   "cell_type": "code",
   "execution_count": 47,
   "metadata": {},
   "outputs": [],
   "source": [
    "def data_import(filename,sep):\n",
    "    a_file = open(filename)\n",
    "    data_lines_to_read = []\n",
    "    for i in range(72,98):\n",
    "        data_lines_to_read.append(i)\n",
    "\n",
    "    x = []\n",
    "    for position, line in enumerate(a_file):\n",
    "        if position in data_lines_to_read:\n",
    "            x.append(line)\n",
    "\n",
    "    date,ra,dec,delta = [],[],[],[]\n",
    "    for i in x:\n",
    "        Date = i[1:12]\n",
    "        Ra = i[23:34]\n",
    "        Dec = i[35:46]\n",
    "        Delta = i[64:79]\n",
    "        date.append(Date)\n",
    "        ra.append(Ra)\n",
    "        dec.append(Dec)\n",
    "        delta.append(Delta)\n",
    "    dec_raw = np.array(dec[::-sep][:3][::-1])\n",
    "    ra_raw = np.array(ra[::-sep][:3][::-1])\n",
    "    date_raw = np.array(date[::-sep][:3][::-1])\n",
    "    data = np.array([date_raw,ra_raw,dec_raw])\n",
    "    return data"
   ]
  },
  {
   "cell_type": "code",
   "execution_count": 48,
   "metadata": {},
   "outputs": [],
   "source": [
    "def get_elements(main_file):\n",
    "    a_file = open(main_file)\n",
    "    lines_to_read = [7,8, 9,10,12]\n",
    "    x = []\n",
    "    for position, line in enumerate(a_file):\n",
    "        if position in lines_to_read:\n",
    "            x.append(line)\n",
    "\n",
    "    oList = []\n",
    "    for i in x:\n",
    "        p = i.split('   ')\n",
    "        p = list(filter(('').__ne__, p))\n",
    "        oList.append(p[0])\n",
    "        oList.append(p[1])\n",
    "        oList.append(p[2])\n",
    "\n",
    "    OList = list(filter(('\\n').__ne__, oList))\n",
    "    delet = [1,2,7,8,10,11,12,13,14]\n",
    "    OList = OList[0:-5:1]\n",
    "    del OList[2]\n",
    "    del OList[-2]\n",
    "    del OList[-2]\n",
    "    del OList[1]\n",
    "\n",
    "    elts_arr = []\n",
    "    for i in OList:\n",
    "        k = i.split('= ')\n",
    "        elts_arr.append(k[1])\n",
    "\n",
    "    e0,OM0,w0,inc0,a0,P0 = elts_arr[0],elts_arr[1],elts_arr[2],elts_arr[3],elts_arr[4],elts_arr[5]\n",
    "    a0 = float(a0)\n",
    "    e0 = float(e0)\n",
    "    inc0 = float(inc0)\n",
    "    OM0 = float(OM0)\n",
    "    w0 = float(w0)\n",
    "    P0 = float(P0)\n",
    "    elts_arr = np.array([a0,e0,inc0,OM0,w0,P0])\n",
    "    return elts_arr"
   ]
  },
  {
   "cell_type": "code",
   "execution_count": 49,
   "metadata": {
    "scrolled": true
   },
   "outputs": [
    {
     "name": "stdout",
     "output_type": "stream",
     "text": [
      "eccentricity e =  0.47981 0.4798327745913477\n",
      "semi-major axis, a =  2.63821 2.634149536807631\n",
      "Period is 1565.1701 days or 4.2851 sid.years 4.27532\n",
      "Time of perihelion passage:  13-Sep-2019 21:52:1568391778\n",
      "i =  13.19317 13.19480172515017\n",
      "omega =  152.22245 152.088773087469\n",
      "OMega =  213.2617 213.2654921364977\n",
      "M0 is value:  76.1528\n",
      "Ephemeris table written to ephemeris-QB3.csv\n"
     ]
    }
   ],
   "source": [
    "# MAIN CODE\n",
    "main_file = '2019-QB3.txt'\n",
    "num = main_file[-7:-4] # the name of the object\n",
    "#data = np.genfromtxt(in_file,delimiter=';',dtype=str)\n",
    "data = data_import(main_file,3)\n",
    "ra_rad,dec_rad,dates = cook_data(data)\n",
    "#print(ra_rad,dec_rad,dates)\n",
    "t1,t2,t3 = dates[0],dates[1],dates[2]\n",
    "t10 = dates[0]\n",
    "# STEP 3 : Solar coordinates\n",
    "x_s, y_s, z_s = sunattime(dates)\n",
    "\n",
    "T1,T2,T3 = cooktime(t1,t2,t3)\n",
    "b1 = T1/T2\n",
    "b3 = T3/T2\n",
    "\n",
    "# STEP 4 : Geocentric direction cosines\n",
    "l,m,n = lmn(ra_rad,dec_rad)\n",
    "\n",
    "a1 = b1\n",
    "a3 = b3\n",
    "# STEP 6 : Geocentric and Heliocentric distances\n",
    "# Delta / D = Geocentric distance\n",
    "# r = heliocentric distance\n",
    "\n",
    "D,r = distances(l,m,n,x_s,y_s,z_s,a1,b1,a3,b3)\n",
    "# tablefortwo(D,r)\n",
    "\n",
    "# STEP 7 : Improve a1 and a3\n",
    "a1,a3,D,r = improve_iterate(b1,b3,T1,T3,r,l,m,n,x_s,y_s,z_s)\n",
    "xi,eta,zeta = calcgeo(l,m,n,D,x_s,y_s,z_s)\n",
    "\n",
    "# STEP 9 : Light-time corrections\n",
    "t1,t2,t3 = lt_correction(D,t1,t2,t3)\n",
    "correct_time = np.array([t1,t2,t3])\n",
    "T1,T2,T3 = cooktime(t1,t2,t3)\n",
    "\n",
    "\n",
    "# R:STEP 3:\n",
    "x_s, y_s, z_s = sunattime(correct_time)\n",
    "\n",
    "# R:STEP 6,7:\n",
    "D,r = distances(l,m,n,x_s,y_s,z_s,a1,b1,a3,b3)\n",
    "# tablefortwo(D,r)\n",
    "\n",
    "xi,eta,zeta = calcgeo(l,m,n,D,x_s,y_s,z_s)\n",
    "\n",
    "\n",
    "# STEP 10 : Calculate f1,f2,f3, M^2 (3 values) and N (3 values)\n",
    "f3 = calcf3(r,xi,eta,zeta)\n",
    "f2 = calcf2(r,xi,eta,zeta)\n",
    "f1 = calcf1(r,xi,eta,zeta)\n",
    "\n",
    "r1, r2, r3 = r[0], r[1], r[2]\n",
    "M32,N3 = calcM2N(T3,f3,r1,r2)\n",
    "M22,N2 = calcM2N(T2,f2,r3,r1)\n",
    "M12,N1 = calcM2N(T1,f1,r2,r3)\n",
    "\n",
    "R3,g3 = functionsolve_guess(M32,N3,f3)\n",
    "R2,g2 = functionsolve_guess(M22,N2,f2)\n",
    "R1,g1 = functionsolve_guess(M12,N1,f1)\n",
    "\n",
    "# STEP 11 : New triangle ratios\n",
    "a1 = (R2/R1)*b1\n",
    "a3 = (R2/R3)*b3\n",
    "\n",
    "\n",
    "D,r = distances(l,m,n,x_s,y_s,z_s,a1,b1,a3,b3)\n",
    "t1,t2,t3 = lt_correction(D,t1,t2,t3)\n",
    "correct_time = np.array([t1,t2,t3])\n",
    "T1,T2,T3 = cooktime(t1,t2,t3)\n",
    "x_s, y_s, z_s = sunattime(correct_time)\n",
    "D,r = distances(l,m,n,x_s,y_s,z_s,a1,b1,a3,b3)\n",
    "xi,eta,zeta = calcgeo(l,m,n,D,x_s,y_s,z_s)\n",
    "f3 = calcf3(r,xi,eta,zeta)\n",
    "f2 = calcf2(r,xi,eta,zeta)\n",
    "f1 = calcf1(r,xi,eta,zeta)\n",
    "r1, r2, r3 = r[0], r[1], r[2]\n",
    "M32,N3 = calcM2N(T3,f3,r1,r2)\n",
    "M22,N2 = calcM2N(T2,f2,r3,r1)\n",
    "M12,N1 = calcM2N(T1,f1,r2,r3)\n",
    "R3,g3 = functionsolve(M32,N3,R3,g3)\n",
    "R2,g2 = functionsolve(M22,N2,R2,g2)\n",
    "R1,g1 = functionsolve(M12,N1,R1,g1)\n",
    "\n",
    "\n",
    "l = (R3*r1*r2*np.sin(2*f3)/T3)**2\n",
    "\n",
    "e,nu1,nu2,nu3 = calc_e_nu(r1,r2,r3,f1,f2,f3,l)\n",
    "nu1,nu2,nu3 = check_angle_rad(nu1),check_angle_rad(nu2),check_angle_rad(nu3)\n",
    "a = calc_a(l,e)\n",
    "\n",
    "P = (a**(3/2))*365.25636\n",
    "\n",
    "E1,E2,E3 = calc_E(e,nu1),calc_E(e,nu2),calc_E(e,nu3)\n",
    "\n",
    "Px,Py,Pz,Qx,Qy,Qz = PQ1(xi,eta,zeta,r,f1,f2,f3,nu1,nu2,nu3)\n",
    "\n",
    "omega = calc_omega(Py,Pz,Qy,Qz)\n",
    "omega = check_angle_rad(omega)\n",
    "\n",
    "OMega = calc_OMega(Px,Py,Qx,Qy,omega)\n",
    "OMega = check_angle_rad(OMega)\n",
    "\n",
    "i_rad = calc_i(Px,Qx,omega,OMega)\n",
    "\n",
    "nu1,nu2,nu3 = check_angle_rad(nu1),check_angle_rad(nu2),check_angle_rad(nu3)\n",
    "T = (P/(2*np.pi))*(E1-e*np.sin(E1))\n",
    "T_p = (t1 - T)\n",
    "\n",
    "acc_a, acc_e, acc_i, acc_w,acc_OM,acc_P = error_check(a,e,i_rad,omega,OMega,days2syr(P))\n",
    "elts0 = get_elements(main_file)\n",
    "a0 = elts0[0]\n",
    "e0 = elts0[1]\n",
    "i0 = elts0[2]\n",
    "OMega0 = elts0[3]\n",
    "omega0 = elts0[4]\n",
    "P0 = elts0[5]\n",
    "\n",
    "print('eccentricity e = ',round(e,5),e0)\n",
    "print('semi-major axis, a = ',round(a,5),a0)\n",
    "print('Period is',round(P,4),'days','or',round(days2syr(P),4),'sid.years', P0)\n",
    "print('Time of perihelion passage: ',Time.strftime(T_p,\"%d-%b-%Y %H:%M:%s\"))\n",
    "print('i = ',round(np.rad2deg(i_rad),5),i0)\n",
    "print('omega = ',round(np.rad2deg(omega),5),omega0)\n",
    "print('OMega = ',round(np.rad2deg(OMega),5),OMega0)\n",
    "\n",
    "# EPHEMERIS\n",
    "elts = np.array([a,e,i_rad,OMega,omega,days2syr(P)])\n",
    "\n",
    "t0 = Time.strptime('2020-Aug-10','%Y-%b-%d',scale='utc')\n",
    "t0 = t0.tt\n",
    "M0 = ((2*np.pi/(P))*(t0-T_p).value)\n",
    "M0 = np.rad2deg(M0)\n",
    "M0 = Angle(M0*u.deg)\n",
    "print('M0 is value: ',round((M0.value),4))\n",
    "N = 10 # no. of coordinates to be generated\n",
    "\n",
    "a = a*u.au\n",
    "inc = Angle(np.rad2deg(i_rad)*u.deg)\n",
    "OM = Angle(np.rad2deg(OMega)*u.deg)\n",
    "w = Angle(np.rad2deg(omega)*u.deg)\n",
    "\n",
    "step = 1\n",
    "ra_h,dec_d,D,time = ephemeris(a,e,inc,OM,w,M0,t0,N,step)\n",
    "cd0,cd1,cd2 = ra_h,dec_d,D\n",
    "T_str = time2str(time)\n",
    "\n",
    "eph_file = 'ephemeris-'+num+'.csv'\n",
    "np.savetxt(eph_file, np.transpose([T_str,cd0,cd1,cd2]),delimiter=';',fmt=\"%s\")\n",
    "print('Ephemeris table written to',eph_file)\n"
   ]
  },
  {
   "cell_type": "markdown",
   "metadata": {},
   "source": [
    "# Orbital Elements table"
   ]
  },
  {
   "cell_type": "code",
   "execution_count": 50,
   "metadata": {
    "scrolled": true
   },
   "outputs": [
    {
     "name": "stdout",
     "output_type": "stream",
     "text": [
      "OBJECT:  2019-QB3 \n",
      " +---------+-----------------+-----------+----------+\n",
      "| Element | Pipeline Output | JPL value | Accuracy |\n",
      "+---------+-----------------+-----------+----------+\n",
      "|    A    |      2.6382     |   2.6341  |  99.846  |\n",
      "|    EC   |      0.4798     |   0.4798  |  99.996  |\n",
      "|    IN   |     13.1932     |  13.1948  |  99.988  |\n",
      "|    OM   |     213.2617    |  213.2655 |  99.998  |\n",
      "|    W    |     152.2224    |  152.0888 |  99.912  |\n",
      "|   PER   |      4.2851     |   4.2753  |  99.771  |\n",
      "+---------+-----------------+-----------+----------+\n"
     ]
    }
   ],
   "source": [
    "def elts_table(elts0,elts,filename):\n",
    "    a0 = round(elts0[0],4)\n",
    "    e0 = round(elts0[1],4)\n",
    "    i0 = round(elts0[2],4)\n",
    "    OMega0 = round(elts0[3],4)\n",
    "    omega0 = round(elts0[4],4)\n",
    "    P0 = round(elts0[5],4)\n",
    "    \n",
    "    a = elts[0]\n",
    "    e = elts[1]\n",
    "    i = elts[2]\n",
    "    OMega = elts[3]\n",
    "    omega = elts[4]\n",
    "    P = elts[5]\n",
    "    \n",
    "    acc_a, acc_e, acc_i, acc_w,acc_OM,acc_P = error_check(a,e,i_rad,omega,OMega,P)\n",
    "    \n",
    "    x = PrettyTable()\n",
    "    x.field_names = [\"Element\",\"Pipeline Output\", \"JPL value\", \"Accuracy\"]\n",
    "    x.add_row(['A',round(a,4),a0,acc_a])\n",
    "    x.add_row(['EC',round(e,4),e0,acc_e])\n",
    "    x.add_row(['IN',round(np.rad2deg(i),4),i0,acc_i])\n",
    "    x.add_row(['OM',round(np.rad2deg(OMega),4),OMega0,acc_OM])\n",
    "    x.add_row(['W',round(np.rad2deg(omega),4),omega0,acc_w])\n",
    "    x.add_row(['PER',round(P,4),P0,acc_P])\n",
    "    print('OBJECT: ',filename[:-4],'\\n',x)\n",
    "    return None\n",
    "\n",
    "elts_table(elts0,elts,main_file)"
   ]
  },
  {
   "cell_type": "raw",
   "metadata": {},
   "source": []
  }
 ],
 "metadata": {
  "kernelspec": {
   "display_name": "Python 3 (ipykernel)",
   "language": "python",
   "name": "python3"
  },
  "language_info": {
   "codemirror_mode": {
    "name": "ipython",
    "version": 3
   },
   "file_extension": ".py",
   "mimetype": "text/x-python",
   "name": "python",
   "nbconvert_exporter": "python",
   "pygments_lexer": "ipython3",
   "version": "3.10.2"
  }
 },
 "nbformat": 4,
 "nbformat_minor": 4
}
